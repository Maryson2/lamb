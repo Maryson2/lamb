{
 "cells": [
  {
   "cell_type": "code",
   "execution_count": null,
   "id": "ba7e4d18",
   "metadata": {},
   "outputs": [],
   "source": [
    "import pandas as pd\n",
    "import pickle\n",
    "from sklearn.ensemble import RandomForestClassifier\n",
    "from sklearn.metrics import accuracy_score\n",
    "\n",
    "df = pd.read_csv(\"train.csv\")\n"
   ]
  },
  {
   "cell_type": "code",
   "execution_count": null,
   "id": "21cfe7ad",
   "metadata": {},
   "outputs": [],
   "source": [
    "def get_title(name):\n",
    "    if \".\" in name:\n",
    "        return name.split(',')[1].split(\".\")[0].strip()\n",
    "    else:\n",
    "        return \"no title\""
   ]
  },
  {
   "cell_type": "code",
   "execution_count": null,
   "id": "97f5800c",
   "metadata": {},
   "outputs": [],
   "source": [
    "def shorter(x):\n",
    "    title = x[\"Title\"]\n",
    "    if title in ['Capt','Col','Major']:\n",
    "        return \"Officer\"\n",
    "    elif title in ['Jonkeer', 'Don','the countess','Dona','Lady','Sir']:\n",
    "        return \"Royality\"\n",
    "    elif title == 'Master':\n",
    "        return \"Mrs\"\n",
    "    elif title in ['Mile', 'Ms']:\n",
    "        return \"Ms\"\n",
    "    else:\n",
    "        return title"
   ]
  },
  {
   "cell_type": "code",
   "execution_count": null,
   "id": "1cb5aff6",
   "metadata": {},
   "outputs": [],
   "source": [
    "df[\"Title\"] = df['Name'].map(lambda x : get_title(x))"
   ]
  },
  {
   "cell_type": "code",
   "execution_count": null,
   "id": "deca619a",
   "metadata": {},
   "outputs": [],
   "source": [
    "df[\"Title\"] = df.apply(shorter, axis=1)\n",
    "df['Age'].fillna(df['Age'].median(), inplace=True)\n",
    "df['Fare'].fillna(df['Fare'].median(), inplace=True)\n",
    "df['Embarked'].fillna(\"S\", inplace=True)\n",
    "df.drop(\"Cabin\", axis=1, inplace = True)\n",
    "df.drop(\"Ticket\", axis=1, inplace = True)\n",
    "df.drop(\"Name\", axis=1, inplace = True)\n",
    "\n"
   ]
  },
  {
   "cell_type": "code",
   "execution_count": null,
   "id": "ed4a687b",
   "metadata": {},
   "outputs": [],
   "source": [
    "print(df.Title.value_counts())\n",
    "\n"
   ]
  },
  {
   "cell_type": "code",
   "execution_count": null,
   "id": "c44cedd3",
   "metadata": {},
   "outputs": [],
   "source": [
    "df.sample(20)\n"
   ]
  },
  {
   "cell_type": "code",
   "execution_count": null,
   "id": "a71ad51c",
   "metadata": {},
   "outputs": [],
   "source": [
    "df.Sex.replace(('male','female'),(0,1), inplace = True)\n",
    "df.Embarked.replace(('S','C','Q'),(0,1,2), inplace = True)\n",
    "df.Title.replace(('Mr','Miss','Mrs','Dr','Rev','Officer','Royality','Mlle','Mme','Ms','the Countess','Jonkheer'),(0,1,2,3,4,5,6,7,8,9,10,11), inplace = True)"
   ]
  },
  {
   "cell_type": "code",
   "execution_count": null,
   "id": "1f4b4d0a",
   "metadata": {},
   "outputs": [],
   "source": [
    "df.Title.value_counts()"
   ]
  },
  {
   "cell_type": "code",
   "execution_count": null,
   "id": "42e00a10",
   "metadata": {},
   "outputs": [],
   "source": [
    "corr = df.corr()\n",
    "corr.Survived.sort_values(ascending=False)"
   ]
  },
  {
   "cell_type": "code",
   "execution_count": null,
   "id": "34bd96ca",
   "metadata": {},
   "outputs": [],
   "source": [
    "from sklearn.model_selection import train_test_split\n",
    "\n",
    "y = df[\"Survived\"]\n",
    "x = df.drop(['Survived', 'PassengerId'], axis = 1)\n",
    "x_train, x_test, y_train, y_test = train_test_split(x, y, test_size = 0.1)"
   ]
  },
  {
   "cell_type": "code",
   "execution_count": null,
   "id": "b32da3d6",
   "metadata": {},
   "outputs": [],
   "source": [
    "\n",
    "\n",
    "randomforest = RandomForestClassifier()\n",
    "randomforest.fit(x_train, y_train)\n",
    "y_pred = randomforest.predict(x_test)\n",
    "acc_randomforest = round(accuracy_score(y_pred, y_test)* 100, 2)\n",
    "print(\"Accuracy: {}\" .format(acc_randomforest))\n",
    "pickle.dump(randomforest, open('train.csv', 'wb'))"
   ]
  },
  {
   "cell_type": "code",
   "execution_count": null,
   "id": "c2660f20",
   "metadata": {},
   "outputs": [],
   "source": [
    "df_test =  pd.read_csv('test.csv')\n",
    "df_test[\"Title\"] = df_test['Name'].map(lambda x : get_title(x))\n",
    "df_test['Title'] = df_test.apply(shorter, axis=1)\n",
    "ids = df_test['PassengerId']\n",
    "df_test['Age'].fillna(df['Age'].median(), inplace=True)\n",
    "df_test['Fare'].fillna(df['Fare'].median(), inplace=True)\n",
    "df_test['Embarked'].fillna(\"S\", inplace=True)\n",
    "df_test.drop(\"Cabin\", axis=1, inplace = True)\n",
    "\n",
    "df_test.drop(\"Ticket\", axis=1, inplace = True)\n",
    "df_test.drop(\"Name\", axis=1, inplace = True)\n",
    "df_test.Sex.replace(('male','female'),(0,1), inplace = True)\n",
    "df_test.Embarked.replace(('S','C','Q'),(0,1,2), inplace = True)\n",
    "df_test.Title.replace(('Mr','Miss','Mrs','Dr','Rev','Officer','Royality','Mlle','Mme','Ms','the Countess','Jonkheer'),(0,1,2,3,4,5,6,7,8,9,10,11), inplace = True)\n",
    "\n"
   ]
  },
  {
   "cell_type": "code",
   "execution_count": null,
   "id": "11c3f943",
   "metadata": {},
   "outputs": [],
   "source": [
    "predictions = randomforest.predict(df_test)\n",
    "output = pd.DataFrame({'PassengerId' : ids, 'Survived' : predictions})\n",
    "output.to_csv('submission.csv', index=False)"
   ]
  },
  {
   "cell_type": "code",
   "execution_count": null,
   "id": "1ce71164",
   "metadata": {},
   "outputs": [],
   "source": []
  },
  {
   "cell_type": "code",
   "execution_count": null,
   "id": "2bc6d9fe",
   "metadata": {},
   "outputs": [],
   "source": []
  },
  {
   "cell_type": "code",
   "execution_count": null,
   "id": "2bca1d64",
   "metadata": {},
   "outputs": [],
   "source": []
  }
 ],
 "metadata": {
  "kernelspec": {
   "display_name": "Python 3 (ipykernel)",
   "language": "python",
   "name": "python3"
  },
  "language_info": {
   "codemirror_mode": {
    "name": "ipython",
    "version": 3
   },
   "file_extension": ".py",
   "mimetype": "text/x-python",
   "name": "python",
   "nbconvert_exporter": "python",
   "pygments_lexer": "ipython3",
   "version": "3.9.12"
  }
 },
 "nbformat": 4,
 "nbformat_minor": 5
}
